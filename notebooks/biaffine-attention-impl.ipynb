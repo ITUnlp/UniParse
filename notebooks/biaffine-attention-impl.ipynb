{
 "cells": [
  {
   "cell_type": "code",
   "execution_count": 3,
   "metadata": {},
   "outputs": [],
   "source": [
    "import numpy as np\n",
    "import dynet as dy\n"
   ]
  },
  {
   "cell_type": "code",
   "execution_count": 2,
   "metadata": {},
   "outputs": [],
   "source": [
    "def affine(m, h, U):\n",
    "    _, c, d = U.shape\n",
    "    return h @ (m @ U.reshape(d, -1)).reshape(d, c)\n",
    "\n",
    "def biaffine(m, h, U, W, b):        \n",
    "    return affine(m, h, U) + cat([m,h]) @ W + b"
   ]
  },
  {
   "cell_type": "code",
   "execution_count": 25,
   "metadata": {},
   "outputs": [],
   "source": [
    "def affine(m, h, U):\n",
    "    (_, c, d), _ = U.dim()\n",
    "    a = dy.reshape(U, (d, d*c))\n",
    "    r = dy.reshape(dy.transpose(m) * a, (d, c))\n",
    "    return dy.transpose(h) * r\n",
    "\n",
    "def biaffine(m, h, U, W, b):        \n",
    "    return affine(m, h, U) + (dy.reshape(dy.concatenate([m,h]), (1,200)) *  W + b)"
   ]
  },
  {
   "cell_type": "code",
   "execution_count": 34,
   "metadata": {},
   "outputs": [],
   "source": [
    "c, d = 1, 100\n",
    "m = dy.inputTensor(np.random.rand(d))\n",
    "h = dy.inputTensor(np.random.rand(d))\n",
    "U = dy.inputTensor(np.random.rand(d, c, d))\n",
    "W = dy.inputTensor(np.random.rand(d*2, c))\n",
    "b = dy.inputTensor(np.random.rand(1,c))"
   ]
  },
  {
   "cell_type": "code",
   "execution_count": 35,
   "metadata": {},
   "outputs": [
    {
     "data": {
      "text/plain": [
       "((1, 1), 1)"
      ]
     },
     "execution_count": 35,
     "metadata": {},
     "output_type": "execute_result"
    }
   ],
   "source": [
    "affine(m, h, U).dim()"
   ]
  },
  {
   "cell_type": "code",
   "execution_count": 36,
   "metadata": {},
   "outputs": [
    {
     "data": {
      "text/plain": [
       "((1, 1), 1)"
      ]
     },
     "execution_count": 36,
     "metadata": {},
     "output_type": "execute_result"
    }
   ],
   "source": [
    "biaffine(m, h, U, W, b).dim()"
   ]
  },
  {
   "cell_type": "markdown",
   "metadata": {},
   "source": [
    "affine: $$a(x_1, x_2) = x_1^\\intercal U x_2$$\n",
    "\n",
    "biaffine: \n",
    "$$b(x_1, x_2) = x_1^\\intercal U x_2 + W(x_1 \\oplus x_2) + b$$\n",
    "$$=$$\n",
    "$$b(x_1, x_2) = a(x_1, x_2) + W(x_1 \\oplus x_2) + b$$\n",
    "\n",
    "\n",
    "*Numpy*\n",
    "```python\n",
    "def affine(m, h, U):\n",
    "    _, c, d = U.shape\n",
    "    return h @ (m @ U.reshape(d, -1)).reshape(d, c)\n",
    "    \n",
    "def biaffine(m, h, U, W, b):        \n",
    "    return affine(m, h, U) + cat([m,h]) @ W + b\n",
    "```\n",
    "(Note that this take into account the higher-dimensional setup where U is `(d,l,d)` with `l > 1`)"
   ]
  },
  {
   "cell_type": "code",
   "execution_count": 74,
   "metadata": {},
   "outputs": [],
   "source": [
    "# time to simplify\n",
    "params = dy.ParameterCollection()\n",
    "c, d = 50, 100\n",
    "m = dy.inputTensor(np.random.rand(d))\n",
    "h = dy.inputTensor(np.random.rand(d))\n",
    "U = params.add_lookup_parameters((d, d, c))\n",
    "W = params.add_lookup_parameters((c, d*2))\n",
    "b =  params.add_lookup_parameters((1,c))"
   ]
  },
  {
   "cell_type": "code",
   "execution_count": 71,
   "metadata": {},
   "outputs": [],
   "source": [
    "def affine(m, h, U):\n",
    "    (_, c, d), _ = U.dim()\n",
    "    a = dy.reshape(U, (d, d*c))\n",
    "    r = dy.reshape(dy.transpose(m) * a, (d, c))\n",
    "    return dy.transpose(h) * r\n",
    "\n",
    "def biaffine(m, h, U, W, b):        \n",
    "    return affine(m, h, U) + (dy.reshape(dy.concatenate([m,h]), (1,200)) *  W + b)"
   ]
  },
  {
   "cell_type": "code",
   "execution_count": 72,
   "metadata": {},
   "outputs": [
    {
     "data": {
      "text/plain": [
       "((50, 50), 1)"
      ]
     },
     "execution_count": 72,
     "metadata": {},
     "output_type": "execute_result"
    }
   ],
   "source": [
    "biaffine(m, h, U, W, b).dim()"
   ]
  },
  {
   "cell_type": "markdown",
   "metadata": {},
   "source": [
    "# get parent"
   ]
  },
  {
   "cell_type": "code",
   "execution_count": 11,
   "metadata": {},
   "outputs": [],
   "source": [
    "from collections import defaultdict\n",
    "pm = defaultdict(list)\n",
    "n = 10\n",
    "golds = np.random.randint(0, n, 10)\n",
    "f = lambda a,b: a+b\n",
    "for m in range(n):\n",
    "    for h in range(n):\n",
    "        f(i,j) + golds[h]"
   ]
  },
  {
   "cell_type": "code",
   "execution_count": 12,
   "metadata": {},
   "outputs": [
    {
     "data": {
      "text/plain": [
       "defaultdict(list,\n",
       "            {8: [0], 0: [1, 2, 8], 7: [3], 3: [4, 7], 9: [5], 1: [6], 6: [9]})"
      ]
     },
     "execution_count": 12,
     "metadata": {},
     "output_type": "execute_result"
    }
   ],
   "source": [
    "pm"
   ]
  },
  {
   "cell_type": "code",
   "execution_count": 13,
   "metadata": {},
   "outputs": [
    {
     "name": "stdout",
     "output_type": "stream",
     "text": [
      "[0 1 2 3 4 5 6 7 8 9]\n",
      "[8 0 0 7 3 9 1 3 0 6]\n"
     ]
    }
   ],
   "source": [
    "print(np.arange(n))\n",
    "print(golds)"
   ]
  },
  {
   "cell_type": "markdown",
   "metadata": {},
   "source": [
    "# attention\n",
    "1. I'd like to feed its parent in"
   ]
  },
  {
   "cell_type": "code",
   "execution_count": null,
   "metadata": {},
   "outputs": [],
   "source": []
  }
 ],
 "metadata": {
  "kernelspec": {
   "display_name": "Python 3",
   "language": "python",
   "name": "python3"
  },
  "language_info": {
   "codemirror_mode": {
    "name": "ipython",
    "version": 3
   },
   "file_extension": ".py",
   "mimetype": "text/x-python",
   "name": "python",
   "nbconvert_exporter": "python",
   "pygments_lexer": "ipython3",
   "version": "3.6.8"
  }
 },
 "nbformat": 4,
 "nbformat_minor": 2
}
