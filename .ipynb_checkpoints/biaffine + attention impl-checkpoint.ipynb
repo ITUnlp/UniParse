{
 "cells": [
  {
   "cell_type": "code",
   "execution_count": 1,
   "metadata": {},
   "outputs": [],
   "source": [
    "import numpy as np\n",
    "import dynet as dy"
   ]
  },
  {
   "cell_type": "code",
   "execution_count": 2,
   "metadata": {},
   "outputs": [],
   "source": [
    "def affine(m, h, U):\n",
    "    _, c, d = U.shape\n",
    "    return h @ (m @ U.reshape(d, -1)).reshape(d, c)\n",
    "\n",
    "def biaffine(m, h, U, W, b):        \n",
    "    return affine(m, h, U) + cat([m,h]) @ W + b"
   ]
  },
  {
   "cell_type": "code",
   "execution_count": 25,
   "metadata": {},
   "outputs": [],
   "source": [
    "def affine(m, h, U):\n",
    "    (_, c, d), _ = U.dim()\n",
    "    a = dy.reshape(U, (d, d*c))\n",
    "    r = dy.reshape(dy.transpose(m) * a, (d, c))\n",
    "    return dy.transpose(h) * r\n",
    "\n",
    "def biaffine(m, h, U, W, b):        \n",
    "    return affine(m, h, U) + (dy.reshape(dy.concatenate([m,h]), (1,200)) *  W + b)"
   ]
  },
  {
   "cell_type": "code",
   "execution_count": 34,
   "metadata": {},
   "outputs": [],
   "source": [
    "c, d = 1, 100\n",
    "m = dy.inputTensor(np.random.rand(d))\n",
    "h = dy.inputTensor(np.random.rand(d))\n",
    "U = dy.inputTensor(np.random.rand(d, c, d))\n",
    "W = dy.inputTensor(np.random.rand(d*2, c))\n",
    "b = dy.inputTensor(np.random.rand(1,c))"
   ]
  },
  {
   "cell_type": "code",
   "execution_count": 35,
   "metadata": {},
   "outputs": [
    {
     "data": {
      "text/plain": [
       "((1, 1), 1)"
      ]
     },
     "execution_count": 35,
     "metadata": {},
     "output_type": "execute_result"
    }
   ],
   "source": [
    "affine(m, h, U).dim()"
   ]
  },
  {
   "cell_type": "code",
   "execution_count": 36,
   "metadata": {},
   "outputs": [
    {
     "data": {
      "text/plain": [
       "((1, 1), 1)"
      ]
     },
     "execution_count": 36,
     "metadata": {},
     "output_type": "execute_result"
    }
   ],
   "source": [
    "biaffine(m, h, U, W, b).dim()"
   ]
  },
  {
   "cell_type": "code",
   "execution_count": 38,
   "metadata": {},
   "outputs": [],
   "source": [
    "params = dy.ParameterCollection()\n",
    "c, d = 1, 100\n",
    "m = dy.inputTensor(np.random.rand(d))\n",
    "h = dy.inputTensor(np.random.rand(d))\n",
    "U = params.add_lookup_parameters((d, d, c))\n",
    "W = params.add_lookup_parameters((d*2, c))\n",
    "b =  params.add_lookup_parameters((1,c))"
   ]
  },
  {
   "cell_type": "code",
   "execution_count": 49,
   "metadata": {},
   "outputs": [
    {
     "data": {
      "text/plain": [
       "((100, 1, 100), 1)"
      ]
     },
     "execution_count": 49,
     "metadata": {},
     "output_type": "execute_result"
    }
   ],
   "source": [
    "params.add_lookup_parameters((100, 100, 1)).dim()"
   ]
  },
  {
   "cell_type": "code",
   "execution_count": 44,
   "metadata": {},
   "outputs": [
    {
     "data": {
      "text/plain": [
       "((50, 100, 5, 100), 1)"
      ]
     },
     "execution_count": 44,
     "metadata": {},
     "output_type": "execute_result"
    }
   ],
   "source": [
    "params.add_lookup_parameters((100, 50, 100, 5)).dim()"
   ]
  },
  {
   "cell_type": "code",
   "execution_count": null,
   "metadata": {},
   "outputs": [],
   "source": []
  }
 ],
 "metadata": {
  "kernelspec": {
   "display_name": "Python 3",
   "language": "python",
   "name": "python3"
  },
  "language_info": {
   "codemirror_mode": {
    "name": "ipython",
    "version": 3
   },
   "file_extension": ".py",
   "mimetype": "text/x-python",
   "name": "python",
   "nbconvert_exporter": "python",
   "pygments_lexer": "ipython3",
   "version": "3.6.8"
  }
 },
 "nbformat": 4,
 "nbformat_minor": 2
}
